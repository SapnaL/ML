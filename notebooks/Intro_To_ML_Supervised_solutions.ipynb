{
 "cells": [
  {
   "cell_type": "markdown",
   "metadata": {},
   "source": [
    "# Intro to Machine Learning - Supervised Learning"
   ]
  },
  {
   "cell_type": "markdown",
   "metadata": {},
   "source": [
    "In the previous lab we explored the 2015 King's County, Washington home sale data and prepared it for modeling.  Now we will actually use this data to test a series of algorithms, assess their performance, and select the best one.  Since we are trying to predict the sale price, this will be a regression problem.  We will fit linear, nearest neighbors, and random forest models."
   ]
  },
  {
   "cell_type": "code",
   "execution_count": 1,
   "metadata": {},
   "outputs": [],
   "source": [
    "import pandas as pd\n",
    "import matplotlib.pyplot as plt"
   ]
  },
  {
   "cell_type": "markdown",
   "metadata": {},
   "source": [
    "First, let's first read in the data using the ``.read_csv()`` function."
   ]
  },
  {
   "cell_type": "code",
   "execution_count": 2,
   "metadata": {},
   "outputs": [],
   "source": [
    "df = pd.read_csv('cleaned_data.csv')"
   ]
  },
  {
   "cell_type": "markdown",
   "metadata": {},
   "source": [
    "Check that the data is read-in correctly and what you think it should be using ``.head()`` and ``.describe()``."
   ]
  },
  {
   "cell_type": "code",
   "execution_count": 3,
   "metadata": {},
   "outputs": [
    {
     "data": {
      "text/html": [
       "<div>\n",
       "<style scoped>\n",
       "    .dataframe tbody tr th:only-of-type {\n",
       "        vertical-align: middle;\n",
       "    }\n",
       "\n",
       "    .dataframe tbody tr th {\n",
       "        vertical-align: top;\n",
       "    }\n",
       "\n",
       "    .dataframe thead th {\n",
       "        text-align: right;\n",
       "    }\n",
       "</style>\n",
       "<table border=\"1\" class=\"dataframe\">\n",
       "  <thead>\n",
       "    <tr style=\"text-align: right;\">\n",
       "      <th></th>\n",
       "      <th>Unnamed: 0</th>\n",
       "      <th>price</th>\n",
       "      <th>bedrooms</th>\n",
       "      <th>bathrooms</th>\n",
       "      <th>sqft_living</th>\n",
       "      <th>sqft_lot</th>\n",
       "      <th>floors</th>\n",
       "      <th>waterfront</th>\n",
       "      <th>grade</th>\n",
       "      <th>lat</th>\n",
       "      <th>long</th>\n",
       "      <th>renovated</th>\n",
       "    </tr>\n",
       "  </thead>\n",
       "  <tbody>\n",
       "    <tr>\n",
       "      <th>0</th>\n",
       "      <td>0</td>\n",
       "      <td>221900.0</td>\n",
       "      <td>0.333333</td>\n",
       "      <td>0.133333</td>\n",
       "      <td>0.123783</td>\n",
       "      <td>0.003108</td>\n",
       "      <td>0.0</td>\n",
       "      <td>0.0</td>\n",
       "      <td>0.545455</td>\n",
       "      <td>0.571498</td>\n",
       "      <td>0.217608</td>\n",
       "      <td>0.0</td>\n",
       "    </tr>\n",
       "    <tr>\n",
       "      <th>1</th>\n",
       "      <td>1</td>\n",
       "      <td>538000.0</td>\n",
       "      <td>0.333333</td>\n",
       "      <td>0.300000</td>\n",
       "      <td>0.317107</td>\n",
       "      <td>0.004072</td>\n",
       "      <td>0.4</td>\n",
       "      <td>0.0</td>\n",
       "      <td>0.545455</td>\n",
       "      <td>0.908959</td>\n",
       "      <td>0.166113</td>\n",
       "      <td>1.0</td>\n",
       "    </tr>\n",
       "    <tr>\n",
       "      <th>2</th>\n",
       "      <td>2</td>\n",
       "      <td>180000.0</td>\n",
       "      <td>0.222222</td>\n",
       "      <td>0.133333</td>\n",
       "      <td>0.066759</td>\n",
       "      <td>0.005743</td>\n",
       "      <td>0.0</td>\n",
       "      <td>0.0</td>\n",
       "      <td>0.454545</td>\n",
       "      <td>0.936143</td>\n",
       "      <td>0.237542</td>\n",
       "      <td>0.0</td>\n",
       "    </tr>\n",
       "    <tr>\n",
       "      <th>3</th>\n",
       "      <td>3</td>\n",
       "      <td>604000.0</td>\n",
       "      <td>0.444444</td>\n",
       "      <td>0.400000</td>\n",
       "      <td>0.232267</td>\n",
       "      <td>0.002714</td>\n",
       "      <td>0.0</td>\n",
       "      <td>0.0</td>\n",
       "      <td>0.545455</td>\n",
       "      <td>0.586939</td>\n",
       "      <td>0.104651</td>\n",
       "      <td>0.0</td>\n",
       "    </tr>\n",
       "    <tr>\n",
       "      <th>4</th>\n",
       "      <td>4</td>\n",
       "      <td>510000.0</td>\n",
       "      <td>0.333333</td>\n",
       "      <td>0.266667</td>\n",
       "      <td>0.193324</td>\n",
       "      <td>0.004579</td>\n",
       "      <td>0.0</td>\n",
       "      <td>0.0</td>\n",
       "      <td>0.636364</td>\n",
       "      <td>0.741354</td>\n",
       "      <td>0.393688</td>\n",
       "      <td>0.0</td>\n",
       "    </tr>\n",
       "  </tbody>\n",
       "</table>\n",
       "</div>"
      ],
      "text/plain": [
       "   Unnamed: 0     price  bedrooms  bathrooms  sqft_living  sqft_lot  floors  \\\n",
       "0           0  221900.0  0.333333   0.133333     0.123783  0.003108     0.0   \n",
       "1           1  538000.0  0.333333   0.300000     0.317107  0.004072     0.4   \n",
       "2           2  180000.0  0.222222   0.133333     0.066759  0.005743     0.0   \n",
       "3           3  604000.0  0.444444   0.400000     0.232267  0.002714     0.0   \n",
       "4           4  510000.0  0.333333   0.266667     0.193324  0.004579     0.0   \n",
       "\n",
       "   waterfront     grade       lat      long  renovated  \n",
       "0         0.0  0.545455  0.571498  0.217608        0.0  \n",
       "1         0.0  0.545455  0.908959  0.166113        1.0  \n",
       "2         0.0  0.454545  0.936143  0.237542        0.0  \n",
       "3         0.0  0.545455  0.586939  0.104651        0.0  \n",
       "4         0.0  0.636364  0.741354  0.393688        0.0  "
      ]
     },
     "execution_count": 3,
     "metadata": {},
     "output_type": "execute_result"
    }
   ],
   "source": [
    "df.head()"
   ]
  },
  {
   "cell_type": "code",
   "execution_count": 4,
   "metadata": {},
   "outputs": [
    {
     "data": {
      "text/html": [
       "<div>\n",
       "<style scoped>\n",
       "    .dataframe tbody tr th:only-of-type {\n",
       "        vertical-align: middle;\n",
       "    }\n",
       "\n",
       "    .dataframe tbody tr th {\n",
       "        vertical-align: top;\n",
       "    }\n",
       "\n",
       "    .dataframe thead th {\n",
       "        text-align: right;\n",
       "    }\n",
       "</style>\n",
       "<table border=\"1\" class=\"dataframe\">\n",
       "  <thead>\n",
       "    <tr style=\"text-align: right;\">\n",
       "      <th></th>\n",
       "      <th>Unnamed: 0</th>\n",
       "      <th>price</th>\n",
       "      <th>bedrooms</th>\n",
       "      <th>bathrooms</th>\n",
       "      <th>sqft_living</th>\n",
       "      <th>sqft_lot</th>\n",
       "      <th>floors</th>\n",
       "      <th>waterfront</th>\n",
       "      <th>grade</th>\n",
       "      <th>lat</th>\n",
       "      <th>long</th>\n",
       "      <th>renovated</th>\n",
       "    </tr>\n",
       "  </thead>\n",
       "  <tbody>\n",
       "    <tr>\n",
       "      <th>count</th>\n",
       "      <td>21075.000000</td>\n",
       "      <td>2.107500e+04</td>\n",
       "      <td>21075.000000</td>\n",
       "      <td>21075.000000</td>\n",
       "      <td>21075.000000</td>\n",
       "      <td>21075.000000</td>\n",
       "      <td>21075.000000</td>\n",
       "      <td>21075.000000</td>\n",
       "      <td>21075.000000</td>\n",
       "      <td>21075.000000</td>\n",
       "      <td>21075.000000</td>\n",
       "      <td>21075.000000</td>\n",
       "    </tr>\n",
       "    <tr>\n",
       "      <th>mean</th>\n",
       "      <td>10788.673310</td>\n",
       "      <td>5.004194e+05</td>\n",
       "      <td>0.371862</td>\n",
       "      <td>0.277226</td>\n",
       "      <td>0.240681</td>\n",
       "      <td>0.008612</td>\n",
       "      <td>0.194050</td>\n",
       "      <td>0.003986</td>\n",
       "      <td>0.599098</td>\n",
       "      <td>0.647739</td>\n",
       "      <td>0.253657</td>\n",
       "      <td>0.039573</td>\n",
       "    </tr>\n",
       "    <tr>\n",
       "      <th>std</th>\n",
       "      <td>6234.638222</td>\n",
       "      <td>2.466856e+05</td>\n",
       "      <td>0.099159</td>\n",
       "      <td>0.097497</td>\n",
       "      <td>0.114436</td>\n",
       "      <td>0.024196</td>\n",
       "      <td>0.215259</td>\n",
       "      <td>0.063008</td>\n",
       "      <td>0.099627</td>\n",
       "      <td>0.224796</td>\n",
       "      <td>0.117742</td>\n",
       "      <td>0.194958</td>\n",
       "    </tr>\n",
       "    <tr>\n",
       "      <th>min</th>\n",
       "      <td>0.000000</td>\n",
       "      <td>7.500000e+04</td>\n",
       "      <td>0.000000</td>\n",
       "      <td>0.000000</td>\n",
       "      <td>0.000000</td>\n",
       "      <td>0.000000</td>\n",
       "      <td>0.000000</td>\n",
       "      <td>0.000000</td>\n",
       "      <td>0.000000</td>\n",
       "      <td>0.000000</td>\n",
       "      <td>0.000000</td>\n",
       "      <td>0.000000</td>\n",
       "    </tr>\n",
       "    <tr>\n",
       "      <th>25%</th>\n",
       "      <td>5389.500000</td>\n",
       "      <td>3.199500e+05</td>\n",
       "      <td>0.333333</td>\n",
       "      <td>0.200000</td>\n",
       "      <td>0.155772</td>\n",
       "      <td>0.002714</td>\n",
       "      <td>0.000000</td>\n",
       "      <td>0.000000</td>\n",
       "      <td>0.545455</td>\n",
       "      <td>0.498472</td>\n",
       "      <td>0.156977</td>\n",
       "      <td>0.000000</td>\n",
       "    </tr>\n",
       "    <tr>\n",
       "      <th>50%</th>\n",
       "      <td>10770.000000</td>\n",
       "      <td>4.450000e+05</td>\n",
       "      <td>0.333333</td>\n",
       "      <td>0.300000</td>\n",
       "      <td>0.222531</td>\n",
       "      <td>0.004260</td>\n",
       "      <td>0.000000</td>\n",
       "      <td>0.000000</td>\n",
       "      <td>0.545455</td>\n",
       "      <td>0.664951</td>\n",
       "      <td>0.239203</td>\n",
       "      <td>0.000000</td>\n",
       "    </tr>\n",
       "    <tr>\n",
       "      <th>75%</th>\n",
       "      <td>16188.500000</td>\n",
       "      <td>6.250000e+05</td>\n",
       "      <td>0.444444</td>\n",
       "      <td>0.333333</td>\n",
       "      <td>0.305981</td>\n",
       "      <td>0.006018</td>\n",
       "      <td>0.400000</td>\n",
       "      <td>0.000000</td>\n",
       "      <td>0.636364</td>\n",
       "      <td>0.841242</td>\n",
       "      <td>0.328904</td>\n",
       "      <td>0.000000</td>\n",
       "    </tr>\n",
       "    <tr>\n",
       "      <th>max</th>\n",
       "      <td>21612.000000</td>\n",
       "      <td>1.495000e+06</td>\n",
       "      <td>1.000000</td>\n",
       "      <td>1.000000</td>\n",
       "      <td>1.000000</td>\n",
       "      <td>1.000000</td>\n",
       "      <td>1.000000</td>\n",
       "      <td>1.000000</td>\n",
       "      <td>1.000000</td>\n",
       "      <td>1.000000</td>\n",
       "      <td>1.000000</td>\n",
       "      <td>1.000000</td>\n",
       "    </tr>\n",
       "  </tbody>\n",
       "</table>\n",
       "</div>"
      ],
      "text/plain": [
       "         Unnamed: 0         price      bedrooms     bathrooms   sqft_living  \\\n",
       "count  21075.000000  2.107500e+04  21075.000000  21075.000000  21075.000000   \n",
       "mean   10788.673310  5.004194e+05      0.371862      0.277226      0.240681   \n",
       "std     6234.638222  2.466856e+05      0.099159      0.097497      0.114436   \n",
       "min        0.000000  7.500000e+04      0.000000      0.000000      0.000000   \n",
       "25%     5389.500000  3.199500e+05      0.333333      0.200000      0.155772   \n",
       "50%    10770.000000  4.450000e+05      0.333333      0.300000      0.222531   \n",
       "75%    16188.500000  6.250000e+05      0.444444      0.333333      0.305981   \n",
       "max    21612.000000  1.495000e+06      1.000000      1.000000      1.000000   \n",
       "\n",
       "           sqft_lot        floors    waterfront         grade           lat  \\\n",
       "count  21075.000000  21075.000000  21075.000000  21075.000000  21075.000000   \n",
       "mean       0.008612      0.194050      0.003986      0.599098      0.647739   \n",
       "std        0.024196      0.215259      0.063008      0.099627      0.224796   \n",
       "min        0.000000      0.000000      0.000000      0.000000      0.000000   \n",
       "25%        0.002714      0.000000      0.000000      0.545455      0.498472   \n",
       "50%        0.004260      0.000000      0.000000      0.545455      0.664951   \n",
       "75%        0.006018      0.400000      0.000000      0.636364      0.841242   \n",
       "max        1.000000      1.000000      1.000000      1.000000      1.000000   \n",
       "\n",
       "               long     renovated  \n",
       "count  21075.000000  21075.000000  \n",
       "mean       0.253657      0.039573  \n",
       "std        0.117742      0.194958  \n",
       "min        0.000000      0.000000  \n",
       "25%        0.156977      0.000000  \n",
       "50%        0.239203      0.000000  \n",
       "75%        0.328904      0.000000  \n",
       "max        1.000000      1.000000  "
      ]
     },
     "execution_count": 4,
     "metadata": {},
     "output_type": "execute_result"
    }
   ],
   "source": [
    "df.describe()"
   ]
  },
  {
   "cell_type": "markdown",
   "metadata": {},
   "source": [
    "Are all of the columns you want accounted for?  Are there any extras you should drop?"
   ]
  },
  {
   "cell_type": "code",
   "execution_count": 5,
   "metadata": {},
   "outputs": [],
   "source": [
    "df = df.drop(columns=['Unnamed: 0'])"
   ]
  },
  {
   "cell_type": "markdown",
   "metadata": {},
   "source": [
    "Let's separate our target column (``price``) from the features.  We'll call the target ``y`` and the features ``X``."
   ]
  },
  {
   "cell_type": "code",
   "execution_count": 6,
   "metadata": {},
   "outputs": [],
   "source": [
    "y = df['price']\n",
    "X = df.drop(columns='price')"
   ]
  },
  {
   "cell_type": "markdown",
   "metadata": {},
   "source": [
    "Let's now split our data into a training set to develop our model and a test set that is unseen by the model against which we can test performance.  ``.train_test_split()`` is an Sci-kit Learn function that makes it easy.  We set the fraction of data we want to withhold for testing using the ``test_size`` parameter.  A value of 0.2-0.33 is usually good to start with, but once we have all of our models built, come back and change this around to see if your results are sensitive to it.  To make sure your data is randomized, shuffle it.  It is also easy to check this by plotting ``y``."
   ]
  },
  {
   "cell_type": "code",
   "execution_count": 7,
   "metadata": {},
   "outputs": [],
   "source": [
    "from sklearn.model_selection import train_test_split\n",
    "\n",
    "X_train, X_test, y_train, y_test = train_test_split(X, y, test_size=0.2, shuffle=True)"
   ]
  },
  {
   "cell_type": "markdown",
   "metadata": {},
   "source": [
    "With our split data, we can fit our models and calculate performance metrics.\n",
    "\n",
    "Start with a linear regression model."
   ]
  },
  {
   "cell_type": "code",
   "execution_count": 8,
   "metadata": {},
   "outputs": [
    {
     "data": {
      "text/plain": [
       "LinearRegression(copy_X=True, fit_intercept=True, n_jobs=None, normalize=False)"
      ]
     },
     "execution_count": 8,
     "metadata": {},
     "output_type": "execute_result"
    }
   ],
   "source": [
    "from sklearn.linear_model import LinearRegression\n",
    "\n",
    "lin_model = LinearRegression()\n",
    "lin_model.fit(X_train, y_train)"
   ]
  },
  {
   "cell_type": "markdown",
   "metadata": {},
   "source": [
    "Now, let's make predictions on the unseen test data.  We will compare this to y_test.  Keep in mind that y_test is a series, so we will need to get the values using ``.values``."
   ]
  },
  {
   "cell_type": "code",
   "execution_count": 9,
   "metadata": {},
   "outputs": [],
   "source": [
    "predictions = lin_model.predict(X_test)"
   ]
  },
  {
   "cell_type": "markdown",
   "metadata": {},
   "source": [
    "Let's calculate some metrics.  The two we are most interested in are mean absolute error (MAE) and mean squared error (MSE).  Print out their values."
   ]
  },
  {
   "cell_type": "code",
   "execution_count": 10,
   "metadata": {},
   "outputs": [
    {
     "name": "stdout",
     "output_type": "stream",
     "text": [
      "MAE:   104052.21632014275\n",
      "r2:   0.6574965957874219\n"
     ]
    }
   ],
   "source": [
    "from sklearn.metrics import mean_absolute_error\n",
    "from sklearn.metrics import r2_score\n",
    "\n",
    "print('MAE:  ', mean_absolute_error(y_test.values, predictions))\n",
    "print('r2:  ', r2_score(y_test.values, predictions))"
   ]
  },
  {
   "cell_type": "markdown",
   "metadata": {},
   "source": [
    "Now let's fit the data with a k-nearest neighbors regressor.  Remember, this model simply finds the nearest k points and makes the prediction from a weighted average.  We'll follow the same procedure of fitting the data, making an out of sample prediction and then calculating the same metrics.  Change k using the ``n_neighbors`` parameter to see how that impacts your results."
   ]
  },
  {
   "cell_type": "code",
   "execution_count": 11,
   "metadata": {},
   "outputs": [
    {
     "name": "stdout",
     "output_type": "stream",
     "text": [
      "MAE:   70052.83449584816\n",
      "r2:   0.8099227791900137\n"
     ]
    }
   ],
   "source": [
    "from sklearn.neighbors import KNeighborsRegressor\n",
    "\n",
    "nn_model = KNeighborsRegressor(n_neighbors=5)\n",
    "nn_model.fit(X_train, y_train)\n",
    "\n",
    "predictions = nn_model.predict(X_test)\n",
    "\n",
    "print('MAE:  ', mean_absolute_error(y_test.values, predictions))\n",
    "print('r2:  ', r2_score(y_test.values, predictions))"
   ]
  },
  {
   "cell_type": "markdown",
   "metadata": {},
   "source": [
    "The last model we will fit is a random forest regressor.  Random forest models are very popular with practioners because they do a great job of fitting the nuances of your data, especially in large datasets like we have."
   ]
  },
  {
   "cell_type": "code",
   "execution_count": 13,
   "metadata": {},
   "outputs": [
    {
     "name": "stdout",
     "output_type": "stream",
     "text": [
      "MAE:   60569.87624408857\n",
      "r2:   0.8568772244990241\n"
     ]
    }
   ],
   "source": [
    "from sklearn.ensemble import RandomForestRegressor\n",
    "\n",
    "rf_model = RandomForestRegressor(n_estimators=100)\n",
    "rf_model.fit(X_train, y_train)\n",
    "\n",
    "predictions = rf_model.predict(X_test)\n",
    "\n",
    "print('MAE:  ', mean_absolute_error(y_test.values, predictions))\n",
    "print('r2:  ', r2_score(y_test.values, predictions))"
   ]
  },
  {
   "cell_type": "markdown",
   "metadata": {},
   "source": [
    "As a final exercise think a bit about our scoring metrics.  They each provide different insights into the performance of the model - what are they telling us and how can they be biased?  In particular, let's think about MAE and if it is the best metric.  Some of these values are quite high when you considering we found the median sale price to be $450,000.  What might be a better metric?"
   ]
  },
  {
   "cell_type": "markdown",
   "metadata": {},
   "source": [
    "### Final Thoughts"
   ]
  },
  {
   "cell_type": "markdown",
   "metadata": {},
   "source": [
    "With Sci-kit Learn we've been able to get these complex models working on our data very easily.  This greatly improves our workflow, and allows us to spend less time getting the code running and more time actually doing data science.  If you've finished early, go back and \"turn the knobs\" of the algorithms to see if you can improve the accuracy of your models.  Especially with the random forest model, there are a lot of parameters you can tweak.  "
   ]
  },
  {
   "cell_type": "code",
   "execution_count": null,
   "metadata": {},
   "outputs": [],
   "source": []
  }
 ],
 "metadata": {
  "kernelspec": {
   "display_name": "Python 3",
   "language": "python",
   "name": "python3"
  },
  "language_info": {
   "codemirror_mode": {
    "name": "ipython",
    "version": 3
   },
   "file_extension": ".py",
   "mimetype": "text/x-python",
   "name": "python",
   "nbconvert_exporter": "python",
   "pygments_lexer": "ipython3",
   "version": "3.6.8"
  }
 },
 "nbformat": 4,
 "nbformat_minor": 2
}
